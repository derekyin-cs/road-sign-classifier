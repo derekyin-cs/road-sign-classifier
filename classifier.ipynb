{
 "cells": [
  {
   "cell_type": "code",
   "execution_count": 5,
   "id": "11363cf3",
   "metadata": {},
   "outputs": [],
   "source": [
    "import tensorflow as tf\n",
    "import numpy as np\n",
    "import matplotlib\n",
    "from matplotlib import pyplot\n",
    "import os\n",
    "import cv2\n"
   ]
  },
  {
   "cell_type": "markdown",
   "id": "50907eca",
   "metadata": {},
   "source": [
    "# Dataset\n"
   ]
  },
  {
   "cell_type": "code",
   "execution_count": 2,
   "id": "b06c7859",
   "metadata": {},
   "outputs": [],
   "source": [
    "import pickle\n",
    "\n",
    "\"\"\"\n",
    "Load pickled training and test data\n",
    "\"\"\"\n",
    "def load_pickled_data(file, cols):\n",
    "    with open(file, mode ='rb') as f:\n",
    "        dataset = pickle.load(f)\n",
    "        \n",
    "    return tuple(map(lambda c: dataset[c], cols))\n",
    "\n"
   ]
  },
  {
   "cell_type": "code",
   "execution_count": 12,
   "id": "39f1b654",
   "metadata": {},
   "outputs": [
    {
     "name": "stdout",
     "output_type": "stream",
     "text": [
      "['Speed limit (20km/h)' 'Speed limit (30km/h)' 'Speed limit (50km/h)'\n",
      " 'Speed limit (60km/h)' 'Speed limit (70km/h)' 'Speed limit (80km/h)'\n",
      " 'End of speed limit (80km/h)' 'Speed limit (100km/h)'\n",
      " 'Speed limit (120km/h)' 'No passing'\n",
      " 'No passing for vechiles over 3.5 metric tons'\n",
      " 'Right-of-way at the next intersection' 'Priority road' 'Yield' 'Stop'\n",
      " 'No vechiles' 'Vechiles over 3.5 metric tons prohibited' 'No entry'\n",
      " 'General caution' 'Dangerous curve to the left'\n",
      " 'Dangerous curve to the right' 'Double curve' 'Bumpy road'\n",
      " 'Slippery road' 'Road narrows on the right' 'Road work' 'Traffic signals'\n",
      " 'Pedestrians' 'Children crossing' 'Bicycles crossing'\n",
      " 'Beware of ice/snow' 'Wild animals crossing'\n",
      " 'End of all speed and passing limits' 'Turn right ahead'\n",
      " 'Turn left ahead' 'Ahead only' 'Go straight or right'\n",
      " 'Go straight or left' 'Keep right' 'Keep left' 'Roundabout mandatory'\n",
      " 'End of no passing' 'End of no passing by vechiles over 3.5 metric tons']\n"
     ]
    }
   ],
   "source": [
    "from pandas.io.parsers import read_csv\n",
    "\n",
    "signnames = read_csv(\"signnames.csv\").values[:, -1]\n",
    "train_file = \"/Train\"\n",
    "test_file = \"../Test\"\n",
    "\n",
    "IMG_HEIGHT = 30\n",
    "IMG_WIDTH = 30\n",
    "channels = 3\n",
    "print(signnames)\n"
   ]
  },
  {
   "cell_type": "code",
   "execution_count": 13,
   "id": "73ff02aa",
   "metadata": {},
   "outputs": [
    {
     "ename": "FileNotFoundError",
     "evalue": "[WinError 3] The system cannot find the path specified: '../Train'",
     "output_type": "error",
     "traceback": [
      "\u001b[1;31m---------------------------------------------------------------------------\u001b[0m",
      "\u001b[1;31mFileNotFoundError\u001b[0m                         Traceback (most recent call last)",
      "\u001b[1;32m~\\AppData\\Local\\Temp/ipykernel_19492/3930368623.py\u001b[0m in \u001b[0;36m<module>\u001b[1;34m\u001b[0m\n\u001b[1;32m----> 1\u001b[1;33m \u001b[0mfolders\u001b[0m \u001b[1;33m=\u001b[0m \u001b[0mos\u001b[0m\u001b[1;33m.\u001b[0m\u001b[0mlistdir\u001b[0m\u001b[1;33m(\u001b[0m\u001b[0mtrain_file\u001b[0m\u001b[1;33m)\u001b[0m\u001b[1;33m\u001b[0m\u001b[1;33m\u001b[0m\u001b[0m\n\u001b[0m\u001b[0;32m      2\u001b[0m \u001b[0mprint\u001b[0m\u001b[1;33m(\u001b[0m\u001b[0mfolders\u001b[0m\u001b[1;33m)\u001b[0m\u001b[1;33m\u001b[0m\u001b[1;33m\u001b[0m\u001b[0m\n\u001b[0;32m      3\u001b[0m \u001b[0mtrain_number\u001b[0m \u001b[1;33m=\u001b[0m \u001b[1;33m[\u001b[0m\u001b[1;33m]\u001b[0m\u001b[1;33m\u001b[0m\u001b[1;33m\u001b[0m\u001b[0m\n\u001b[0;32m      4\u001b[0m \u001b[0mclass_num\u001b[0m \u001b[1;33m=\u001b[0m \u001b[1;33m[\u001b[0m\u001b[1;33m]\u001b[0m\u001b[1;33m\u001b[0m\u001b[1;33m\u001b[0m\u001b[0m\n\u001b[0;32m      5\u001b[0m \u001b[1;33m\u001b[0m\u001b[0m\n",
      "\u001b[1;31mFileNotFoundError\u001b[0m: [WinError 3] The system cannot find the path specified: '../Train'"
     ]
    }
   ],
   "source": [
    "folders = os.listdir(train_file)\n",
    "print(folders)\n",
    "train_number = []\n",
    "class_num = []\n",
    "\n",
    "for folder in folders:\n",
    "    train_files = os.listdir(train_file + \"/\" + folder)\n",
    "    train_number.append(len(train_files))\n",
    "    class_num.append(\"\")"
   ]
  },
  {
   "cell_type": "code",
   "execution_count": null,
   "id": "83a62107",
   "metadata": {},
   "outputs": [],
   "source": []
  }
 ],
 "metadata": {
  "kernelspec": {
   "display_name": "Python 3 (ipykernel)",
   "language": "python",
   "name": "python3"
  },
  "language_info": {
   "codemirror_mode": {
    "name": "ipython",
    "version": 3
   },
   "file_extension": ".py",
   "mimetype": "text/x-python",
   "name": "python",
   "nbconvert_exporter": "python",
   "pygments_lexer": "ipython3",
   "version": "3.9.7"
  }
 },
 "nbformat": 4,
 "nbformat_minor": 5
}
